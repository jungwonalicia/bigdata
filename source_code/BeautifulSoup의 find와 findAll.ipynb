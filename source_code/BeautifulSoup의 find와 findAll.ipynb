{
 "cells": [
  {
   "cell_type": "code",
   "execution_count": 1,
   "metadata": {},
   "outputs": [],
   "source": [
    "from bs4 import BeautifulSoup"
   ]
  },
  {
   "cell_type": "code",
   "execution_count": 2,
   "metadata": {},
   "outputs": [],
   "source": [
    "html = \"\"\"\n",
    "    <html>\n",
    "        <table>\n",
    "            <tr>\n",
    "                <td class=\"first\">100</td>\n",
    "                <td>200</td>\n",
    "            </tr>\n",
    "            <tr>\n",
    "                <td>300</td>\n",
    "                <td>400</td>\n",
    "            </tr>\n",
    "        </table>\n",
    "    </html>\n",
    "\"\"\""
   ]
  },
  {
   "cell_type": "code",
   "execution_count": 3,
   "metadata": {},
   "outputs": [],
   "source": [
    "bs_obj = BeautifulSoup(html, \"html.parser\")"
   ]
  },
  {
   "cell_type": "code",
   "execution_count": 4,
   "metadata": {},
   "outputs": [
    {
     "name": "stdout",
     "output_type": "stream",
     "text": [
      "\n",
      "<html>\n",
      "<table>\n",
      "<tr>\n",
      "<td class=\"first\">100</td>\n",
      "<td>200</td>\n",
      "</tr>\n",
      "<tr>\n",
      "<td>300</td>\n",
      "<td>400</td>\n",
      "</tr>\n",
      "</table>\n",
      "</html>\n",
      "\n"
     ]
    }
   ],
   "source": [
    "print(bs_obj)"
   ]
  },
  {
   "cell_type": "code",
   "execution_count": 5,
   "metadata": {},
   "outputs": [],
   "source": [
    "td_first = bs_obj.find(\"td\", {\"class\":\"first\"})"
   ]
  },
  {
   "cell_type": "code",
   "execution_count": 6,
   "metadata": {},
   "outputs": [
    {
     "name": "stdout",
     "output_type": "stream",
     "text": [
      "<td class=\"first\">100</td>\n"
     ]
    }
   ],
   "source": [
    "print(td_first)"
   ]
  },
  {
   "cell_type": "code",
   "execution_count": 7,
   "metadata": {},
   "outputs": [
    {
     "name": "stdout",
     "output_type": "stream",
     "text": [
      "100\n"
     ]
    }
   ],
   "source": [
    "print(td_first.text)"
   ]
  },
  {
   "cell_type": "code",
   "execution_count": 8,
   "metadata": {},
   "outputs": [],
   "source": [
    "table = bs_obj.find(\"table\")"
   ]
  },
  {
   "cell_type": "code",
   "execution_count": 9,
   "metadata": {},
   "outputs": [
    {
     "name": "stdout",
     "output_type": "stream",
     "text": [
      "<table>\n",
      "<tr>\n",
      "<td class=\"first\">100</td>\n",
      "<td>200</td>\n",
      "</tr>\n",
      "<tr>\n",
      "<td>300</td>\n",
      "<td>400</td>\n",
      "</tr>\n",
      "</table>\n"
     ]
    }
   ],
   "source": [
    "print(table)"
   ]
  },
  {
   "cell_type": "code",
   "execution_count": 10,
   "metadata": {},
   "outputs": [
    {
     "name": "stdout",
     "output_type": "stream",
     "text": [
      "<table>\n",
      "<tr>\n",
      "<td class=\"first\">100</td>\n",
      "<td>200</td>\n",
      "</tr>\n",
      "<tr>\n",
      "<td>300</td>\n",
      "<td>400</td>\n",
      "</tr>\n",
      "</table>\n"
     ]
    }
   ],
   "source": [
    "#find는 여러 개인 경우, 첫 번째 것만 가지고 온다.\n",
    "table = bs_obj.find(\"table\")\n",
    "tr = table.find(\"tr\")\n",
    "print(table)"
   ]
  },
  {
   "cell_type": "code",
   "execution_count": 11,
   "metadata": {},
   "outputs": [
    {
     "name": "stdout",
     "output_type": "stream",
     "text": [
      "[<td class=\"first\">100</td>, <td>200</td>]\n"
     ]
    }
   ],
   "source": [
    "#table내의 첫 번째 tr을 찾아서, tr내의 td리스트를 찾아라.\n",
    "table = bs_obj.find(\"table\")\n",
    "tr = table.find(\"tr\")\n",
    "tds = tr.findAll(\"td\") #list [ , , ]\n",
    "print(tds)"
   ]
  },
  {
   "cell_type": "code",
   "execution_count": 12,
   "metadata": {},
   "outputs": [
    {
     "name": "stdout",
     "output_type": "stream",
     "text": [
      "<td class=\"first\">100</td>\n"
     ]
    }
   ],
   "source": [
    "#첫 번째 td를 가지고 와라.\n",
    "table = bs_obj.find(\"table\")\n",
    "tr = table.find(\"tr\")\n",
    "tds = tr.findAll(\"td\") #list [ , , ]\n",
    "print(tds[0])"
   ]
  },
  {
   "cell_type": "code",
   "execution_count": 13,
   "metadata": {},
   "outputs": [
    {
     "name": "stdout",
     "output_type": "stream",
     "text": [
      "100\n"
     ]
    }
   ],
   "source": [
    "#첫 번째 td의 텍스트를 프린트.\n",
    "table = bs_obj.find(\"table\")\n",
    "tr = table.find(\"tr\")\n",
    "tds = tr.findAll(\"td\") #list [ , , ]\n",
    "print(tds[0].text)"
   ]
  },
  {
   "cell_type": "code",
   "execution_count": 14,
   "metadata": {},
   "outputs": [
    {
     "name": "stdout",
     "output_type": "stream",
     "text": [
      "200\n"
     ]
    }
   ],
   "source": [
    "#두 번째 td의 텍스트를 프린트.\n",
    "table = bs_obj.find(\"table\")\n",
    "tr = table.find(\"tr\")\n",
    "tds = tr.findAll(\"td\") #list [ , , ]\n",
    "print(tds[1].text)"
   ]
  },
  {
   "cell_type": "code",
   "execution_count": 16,
   "metadata": {},
   "outputs": [
    {
     "name": "stdout",
     "output_type": "stream",
     "text": [
      "300\n"
     ]
    }
   ],
   "source": [
    "#두 번째 tr을 가지고 와서, 첫 번째 td의 텍스트를 프린트.\n",
    "table = bs_obj.find(\"table\")\n",
    "trs = table.findAll(\"tr\")\n",
    "tds2 = trs[1].findAll(\"td\") #list [ , , ]\n",
    "print(tds2[0].text)"
   ]
  },
  {
   "cell_type": "code",
   "execution_count": 17,
   "metadata": {},
   "outputs": [
    {
     "name": "stdout",
     "output_type": "stream",
     "text": [
      "400\n"
     ]
    }
   ],
   "source": [
    "#두 번째 tr을 가지고 와서, 두 번째 td의 텍스트를 프린트.\n",
    "table = bs_obj.find(\"table\")\n",
    "trs = table.findAll(\"tr\")\n",
    "tds2 = trs[1].findAll(\"td\") #list [ , , ]\n",
    "print(tds2[1].text)"
   ]
  },
  {
   "cell_type": "code",
   "execution_count": null,
   "metadata": {},
   "outputs": [],
   "source": []
  }
 ],
 "metadata": {
  "kernelspec": {
   "display_name": "Python 3",
   "language": "python",
   "name": "python3"
  },
  "language_info": {
   "codemirror_mode": {
    "name": "ipython",
    "version": 3
   },
   "file_extension": ".py",
   "mimetype": "text/x-python",
   "name": "python",
   "nbconvert_exporter": "python",
   "pygments_lexer": "ipython3",
   "version": "3.7.0"
  }
 },
 "nbformat": 4,
 "nbformat_minor": 2
}
