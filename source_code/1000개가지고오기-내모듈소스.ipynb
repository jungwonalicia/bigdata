{
 "cells": [
  {
   "cell_type": "code",
   "execution_count": null,
   "metadata": {},
   "outputs": [],
   "source": [
    "import requests\n",
    "from urllib.parse import quote\n",
    "\n",
    "def get1000Result(keyword):\n",
    "    list = []\n",
    "    for num in range(0, 10):\n",
    "        list = list + call(keyword, num * 100 + 1)['items']\n",
    "    return list\n",
    "    \n",
    "def call(keyword, start): #몇 번부터 시작할 지를 입력값으로.\n",
    "    encText = quote(keyword)\n",
    "    url = \"https://openapi.naver.com/v1/search/blog?query=\" + encText + \"&display=100\" + \"&start=\" + str(start)  #str() 스트링으로 변환\n",
    "    result = requests.get(url = url, \n",
    "                          headers={\"X-Naver-Client-Id\": \"ECHV86pScmsxBJZTnSVs\", \n",
    "                                   \"X-Naver-Client-Secret\": \"12HmTNDqIs\"\n",
    "                          })\n",
    "    print(result)\n",
    "    return result.json()\n"
   ]
  }
 ],
 "metadata": {
  "kernelspec": {
   "display_name": "Python 3",
   "language": "python",
   "name": "python3"
  },
  "language_info": {
   "codemirror_mode": {
    "name": "ipython",
    "version": 3
   },
   "file_extension": ".py",
   "mimetype": "text/x-python",
   "name": "python",
   "nbconvert_exporter": "python",
   "pygments_lexer": "ipython3",
   "version": "3.6.8"
  }
 },
 "nbformat": 4,
 "nbformat_minor": 2
}
