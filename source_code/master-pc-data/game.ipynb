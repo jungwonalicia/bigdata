{
 "cells": [
  {
   "cell_type": "code",
   "execution_count": 1,
   "metadata": {},
   "outputs": [
    {
     "name": "stdout",
     "output_type": "stream",
     "text": [
      "1부터 100사이의 숫자를 맞추어주세요.\n",
      "숫자를 입력하세요...55\n",
      "정답이 아닙니다.\n",
      "너무 작음!!!\n",
      "숫자를 입력하세요...88\n",
      "정답이 아닙니다.\n",
      "너무 큼!!!\n",
      "숫자를 입력하세요...66\n",
      "정답이 아닙니다.\n",
      "너무 작음!!!\n",
      "숫자를 입력하세요...77\n",
      "정답입니다.\n"
     ]
    }
   ],
   "source": [
    "import random\n",
    "\n",
    "number2 = random.randint(1, 100)\n",
    "number2\n",
    "\n",
    "print(\"1부터 100사이의 숫자를 맞추어주세요.\")\n",
    "tries = 0\n",
    "\n",
    "while tries < 10:\n",
    "    guess = int(input(\"숫자를 입력하세요...\"))\n",
    "    tries = tries + 1\n",
    "    if guess == number2:\n",
    "        print(\"정답입니다.\")\n",
    "        break\n",
    "    else:\n",
    "        print(\"정답이 아닙니다.\")\n",
    "        if guess < number2:\n",
    "            print(\"너무 작음!!!\")\n",
    "        elif guess > number2:\n",
    "            print(\"너무 큼!!!\")\n",
    "        else:\n",
    "            print(\"...\")\n"
   ]
  },
  {
   "cell_type": "code",
   "execution_count": null,
   "metadata": {
    "collapsed": true
   },
   "outputs": [],
   "source": []
  }
 ],
 "metadata": {
  "kernelspec": {
   "display_name": "Python 3",
   "language": "python",
   "name": "python3"
  },
  "language_info": {
   "codemirror_mode": {
    "name": "ipython",
    "version": 3
   },
   "file_extension": ".py",
   "mimetype": "text/x-python",
   "name": "python",
   "nbconvert_exporter": "python",
   "pygments_lexer": "ipython3",
   "version": "3.6.2"
  }
 },
 "nbformat": 4,
 "nbformat_minor": 2
}
