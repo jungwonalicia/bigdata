{
 "cells": [
  {
   "cell_type": "code",
   "execution_count": 1,
   "metadata": {},
   "outputs": [],
   "source": [
    "# 인터넷 연결\n",
    "# html문서받아와서 분석\n",
    "\n",
    "import requests\n",
    "from bs4 import BeautifulSoup"
   ]
  },
  {
   "cell_type": "code",
   "execution_count": 22,
   "metadata": {},
   "outputs": [],
   "source": [
    "def get_price(company_code) :\n",
    "    url = \"https://finance.naver.com/item/main.nhn?code=\" + company_code\n",
    "    #url = \"https://finance.naver.com/item/main.nhn?code=035420\"\n",
    "    # print(\"url: \" , url)\n",
    "    \n",
    "    result = requests.get(url)\n",
    "    # print(\"result: \", result)\n",
    "    \n",
    "    bs_obj = BeautifulSoup (result.content, \"html.parser\")\n",
    "    # print(\"html: \", bs_obj)\n",
    "    \n",
    "    no_today = bs_obj.find(\"p\", {\"class\":\"no_today\"})\n",
    "    blind_now = no_today.find(\"span\", {\"class\":\"blind\"})\n",
    "    \n",
    "    all_td = bs_obj.find(\"td\", {\"class\":\"first\"})\n",
    "    first = all_td.find(\"span\", {\"class\":\"blind\"})\n",
    "    \n",
    "    print(company_code , \"의 시가: \", blind_now.text, \", 전일가: \" , first.text)\n",
    "    \n",
    "    \n",
    "    \n",
    "    \n",
    "    \n",
    "    \n",
    "    \n",
    "    "
   ]
  },
  {
   "cell_type": "code",
   "execution_count": 15,
   "metadata": {},
   "outputs": [],
   "source": [
    "company_codes = [\"035420\",\"025980\",\"017800\",\"044340\",\"122870\"]"
   ]
  },
  {
   "cell_type": "code",
   "execution_count": 16,
   "metadata": {},
   "outputs": [
    {
     "name": "stdout",
     "output_type": "stream",
     "text": [
      "035420\n",
      "025980\n",
      "017800\n",
      "044340\n",
      "122870\n"
     ]
    }
   ],
   "source": [
    "for code in company_codes:\n",
    "    print(code)"
   ]
  },
  {
   "cell_type": "code",
   "execution_count": 19,
   "metadata": {},
   "outputs": [
    {
     "name": "stdout",
     "output_type": "stream",
     "text": [
      "035420 의 최종 결과값:  133,000\n",
      "025980 의 최종 결과값:  18,450\n",
      "017800 의 최종 결과값:  82,300\n",
      "044340 의 최종 결과값:  19,200\n",
      "122870 의 최종 결과값:  43,250\n"
     ]
    }
   ],
   "source": [
    "for code in company_codes:\n",
    "    get_price(code)"
   ]
  },
  {
   "cell_type": "code",
   "execution_count": 20,
   "metadata": {},
   "outputs": [],
   "source": [
    "company_list = ['NAVER','아난티','현대엘리베이','위닉스','와이지엔터테인먼트']"
   ]
  },
  {
   "cell_type": "code",
   "execution_count": 25,
   "metadata": {},
   "outputs": [
    {
     "name": "stdout",
     "output_type": "stream",
     "text": [
      "NAVER\n",
      "035420 의 시가:  133,000 , 전일가:  138,500\n",
      "아난티\n",
      "025980 의 시가:  18,450 , 전일가:  19,400\n",
      "현대엘리베이\n",
      "017800 의 시가:  82,300 , 전일가:  83,300\n",
      "위닉스\n",
      "044340 의 시가:  19,200 , 전일가:  17,700\n",
      "와이지엔터테인먼트\n",
      "122870 의 시가:  43,250 , 전일가:  40,750\n"
     ]
    }
   ],
   "source": [
    "i = 0\n",
    "for code in company_codes:\n",
    "    print(company_list[i])\n",
    "    get_price(code)\n",
    "    i = i + 1"
   ]
  },
  {
   "cell_type": "code",
   "execution_count": null,
   "metadata": {},
   "outputs": [],
   "source": []
  }
 ],
 "metadata": {
  "kernelspec": {
   "display_name": "Python 3",
   "language": "python",
   "name": "python3"
  },
  "language_info": {
   "codemirror_mode": {
    "name": "ipython",
    "version": 3
   },
   "file_extension": ".py",
   "mimetype": "text/x-python",
   "name": "python",
   "nbconvert_exporter": "python",
   "pygments_lexer": "ipython3",
   "version": "3.7.0"
  }
 },
 "nbformat": 4,
 "nbformat_minor": 2
}
