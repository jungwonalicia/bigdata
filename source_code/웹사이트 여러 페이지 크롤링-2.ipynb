{
 "cells": [
  {
   "cell_type": "code",
   "execution_count": 8,
   "metadata": {},
   "outputs": [],
   "source": [
    "import requests\n",
    "from urllib.parse import urlparse"
   ]
  },
  {
   "cell_type": "code",
   "execution_count": 9,
   "metadata": {},
   "outputs": [],
   "source": [
    "client_id = \"ECHV86pScmsxBJZTnSVs\"\n",
    "client_secret = \"12HmTNDqIs\"\n"
   ]
  },
  {
   "cell_type": "code",
   "execution_count": 14,
   "metadata": {},
   "outputs": [
    {
     "name": "stdout",
     "output_type": "stream",
     "text": [
      "{'lastBuildDate': 'Sat, 12 Jan 2019 20:38:23 +0900', 'total': 376055, 'start': 1, 'display': 10, 'items': [{'title': '방산시장 캔들 / 소이캔들 재료 캔들&amp;<b>디퓨저</b>만들기 &quot;캔들메이드&quot;', 'link': 'http://blog.naver.com/hyonison?Redirect=Log&amp;logNo=221437699523', 'description': '#캔들만들기 #<b>디퓨저</b>만들기 를 생각하시는 분들 재료를 어디서 구매하시나요? 저는 방산시장에서... #소이캔들재료 #<b>디퓨저</b>재료 #석고방향제재료 등등 여러 재료를 구비해놓고 있답니다 ㅎㅎㅎ 지금부터 이제... ', 'bloggername': 'Beautiful-Influence:]', 'bloggerlink': 'http://blog.naver.com/hyonison', 'postdate': '20190109'}, {'title': '<b>디퓨저</b>재료 무료인 유명한 인강 들어본 후기', 'link': 'http://blog.naver.com/becky8030?Redirect=Log&amp;logNo=221439158131', 'description': '<b>디퓨저</b>재료를 무료로 받아 강의보고 배울 수 있다는 후기 <b>디퓨저</b> 검색 몇 번해보면 다들 보셨을텐데요. 후기들이 되게 좋았어서 샘플이라도 함 봐보자싶어 들어가 봤다가 퀄리티가 좋아서 저도 등록을... ', 'bloggername': 'Becky의 NOTE 。。。。ING★365', 'bloggerlink': 'http://blog.naver.com/becky8030', 'postdate': '20190111'}, {'title': '[방산시장 <b>디퓨저</b>] THE조은향기에서 나만의 <b>디퓨저</b> 만들기!', 'link': 'http://blog.naver.com/jinyoong03?Redirect=Log&amp;logNo=221423763758', 'description': \"원래 향수엔 관심이 있었지만, <b>디퓨저</b>에는 관심이 없었던 나. 워낙 향에 민감한 사람이라 남들이... 방산시장 <b>디퓨저</b> 'THE 조은향기' THE 조은향기는 방산시장에 있는 캔들, 천연비누, 석고방향제, 향수, <b>디퓨저</b>를... \", 'bloggername': \"CATHY'S DIARY\", 'bloggerlink': 'http://blog.naver.com/jinyoong03', 'postdate': '20181220'}, {'title': '천연 실내방향제 분위기 살리는 오투원 실내<b>디퓨저</b>', 'link': 'http://blog.naver.com/ll_queen_ll?Redirect=Log&amp;logNo=221435672966', 'description': '천연 실내방향제 집안 분위기도 살리는 오투원 실내<b>디퓨저</b>로 꾸며볼래? 어느덧 새해를 맞이한 지 벌써... 실내<b>디퓨저</b>가 생각이 나더라구요? 실내방향제 역할을 하면서 플랜트를 하나 꽂아두니 식물 화분인 것... ', 'bloggername': '쪼블리와 설악이네♬', 'bloggerlink': 'http://blog.naver.com/ll_queen_ll', 'postdate': '20190106'}, {'title': '[블랑] 천연 방향제 <b>디퓨저</b>로 집안 냄새 제거하기!', 'link': 'http://blog.naver.com/imajinny?Redirect=Log&amp;logNo=221435937058', 'description': '효과가 좋은 기분 전환 방법인 블랑 <b>디퓨저</b>를 소개해드릴게요! 제가 써본 <b>디퓨저</b>는 천연 방향제로 블랑에서 나온 <b>디퓨저</b>예요! 시향 제품과 함께 오는데 전 플로럴 가든향이 왔어요! 어떻게 따는지 몰라서 정말... ', 'bloggername': \"BillyJinny's Lovely Life\", 'bloggerlink': 'http://blog.naver.com/imajinny', 'postdate': '20190107'}, {'title': '무인양품 아로마 <b>디퓨저</b> 가습기 리얼 후기 , 진짜 넘모 좋아', 'link': 'http://blog.naver.com/jh_0927?Redirect=Log&amp;logNo=221433118325', 'description': '보름달입니다 오늘은 제가 요즘 푹 빠진 아이템 소개할거예요 전부터 무인양품 아로마 <b>디퓨저</b> 꼭 사고 싶었는데, 이번에 드디어!!!! 구매하게 되었어요 *_* 요즘 매일 밤 아로마 <b>디퓨저</b> 켜놓고 물 쪼르륵 나오는... ', 'bloggername': '보름달 FCDA', 'bloggerlink': 'http://blog.naver.com/jh_0927', 'postdate': '20190103'}, {'title': '센스있는집들이선물 @또꿈<b>디퓨저</b> 안전한 성분이 좋아요 !', 'link': 'http://blog.naver.com/claraharte?Redirect=Log&amp;logNo=221434493692', 'description': '이거 <b>디퓨저</b>거든요 ㅋㅋㅋ *.* 무슨 향일지도 궁금하고 원래 선물받으면 그 자리에서 뜯는거니까 요런 센스있는집들이선물 취저라서 ㅋㅋㅋ ㄹㅇ 바로 개봉해봅니다 !!! “ 프리미엄 퍼퓸 또꿈<b>디퓨저</b> ” 라는... ', 'bloggername': '31052017', 'bloggerlink': 'http://blog.naver.com/claraharte', 'postdate': '20190104'}, {'title': '무인양품(MUJI) 초음파 아로마 <b>디퓨저</b> 개봉기 및  사용기', 'link': 'http://blog.naver.com/haruphoto?Redirect=Log&amp;logNo=221433413658', 'description': \"요즘 #<b>디퓨저</b> 전문매장도 생길 만큼 #<b>디퓨저</b> 에 관심을 가지는 분들이 점점 더 많아 지고 있는 추세입니다. 그도 그런게 인테리어에 요즘 신경 많이 쓰시잖아요. 그런데 그만큼 또 중요한게 바로 '향'이기... \", 'bloggername': '꼬물이네~', 'bloggerlink': 'http://blog.naver.com/haruphoto', 'postdate': '20190103'}, {'title': '<b>디퓨저</b>추천, 천연방향제 오투원 실내 <b>디퓨저</b>로 셀프인테리어... ', 'link': 'http://blog.naver.com/sooy311?Redirect=Log&amp;logNo=221433431675', 'description': '<b>디퓨저</b>추천, 천연방향제 오투원 실내 <b>디퓨저</b>로 셀프인테리어 완성! 날도 춥고 아이도 아프다보니 외출을 좀 자제하고 있다. 집에만 있으려니 답답하고 나가고 싶지만 괜히 나갔다가 또 탈날까봐 참아야지...... ', 'bloggername': '당근이와 함께 Happy Life ♪♬', 'bloggerlink': 'http://blog.naver.com/sooy311', 'postdate': '20190103'}, {'title': '화장실 디퓨져 가성비 좋은 <b>디퓨저</b> 라피네르 대만족!', 'link': 'http://blog.naver.com/pilhun2?Redirect=Log&amp;logNo=221439680966', 'description': '조말론 같은 유명 브랜드랑 향은 비슷한데 가격은 훨씬 저렴해서 가성비 <b>디퓨저</b>로 알려진 라피네르... 향만 좋으면 리필액도 사볼 생각..ㅎㅎ 어차피 가성비 <b>디퓨저</b>라 부담되지도 않으니까요! 안에 열어보면... ', 'bloggername': '피루니의 인테리어 세상', 'bloggerlink': 'http://blog.naver.com/pilhun2', 'postdate': '20190111'}]}\n"
     ]
    }
   ],
   "source": [
    "keyword = urllib.parse.quote(\"디퓨저\")\n",
    "url = \"https://openapi.naver.com/v1/search/blog?query=\"+ keyword\n",
    "result = requests.get(urlparse(url).geturl(), headers={\"X-Naver-Client-Id\": client_id, \n",
    "                                                      \"X-Naver-Client-Secret\": client_secret\n",
    "                                                      })\n",
    "json_oj = result.json()\n",
    "print(json_oj)"
   ]
  },
  {
   "cell_type": "code",
   "execution_count": null,
   "metadata": {},
   "outputs": [],
   "source": []
  }
 ],
 "metadata": {
  "kernelspec": {
   "display_name": "Python 3",
   "language": "python",
   "name": "python3"
  },
  "language_info": {
   "codemirror_mode": {
    "name": "ipython",
    "version": 3
   },
   "file_extension": ".py",
   "mimetype": "text/x-python",
   "name": "python",
   "nbconvert_exporter": "python",
   "pygments_lexer": "ipython3",
   "version": "3.6.8"
  }
 },
 "nbformat": 4,
 "nbformat_minor": 2
}
